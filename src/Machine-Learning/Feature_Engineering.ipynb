{
 "cells": [
  {
   "cell_type": "code",
   "execution_count": 19,
   "metadata": {},
   "outputs": [],
   "source": [
    "import pandas as pd\n"
   ]
  },
  {
   "cell_type": "code",
   "execution_count": 20,
   "metadata": {},
   "outputs": [
    {
     "data": {
      "text/html": [
       "<div>\n",
       "<style scoped>\n",
       "    .dataframe tbody tr th:only-of-type {\n",
       "        vertical-align: middle;\n",
       "    }\n",
       "\n",
       "    .dataframe tbody tr th {\n",
       "        vertical-align: top;\n",
       "    }\n",
       "\n",
       "    .dataframe thead th {\n",
       "        text-align: right;\n",
       "    }\n",
       "</style>\n",
       "<table border=\"1\" class=\"dataframe\">\n",
       "  <thead>\n",
       "    <tr style=\"text-align: right;\">\n",
       "      <th></th>\n",
       "      <th>datetime</th>\n",
       "      <th>T</th>\n",
       "      <th>P</th>\n",
       "      <th>RH</th>\n",
       "      <th>U</th>\n",
       "    </tr>\n",
       "  </thead>\n",
       "  <tbody>\n",
       "    <tr>\n",
       "      <th>0</th>\n",
       "      <td>2014-01-01 01:00:00+00:00</td>\n",
       "      <td>60.0</td>\n",
       "      <td>10083.0</td>\n",
       "      <td>0.5</td>\n",
       "      <td>92.0</td>\n",
       "    </tr>\n",
       "    <tr>\n",
       "      <th>1</th>\n",
       "      <td>2014-01-01 02:00:00+00:00</td>\n",
       "      <td>62.0</td>\n",
       "      <td>10088.0</td>\n",
       "      <td>0.0</td>\n",
       "      <td>93.0</td>\n",
       "    </tr>\n",
       "    <tr>\n",
       "      <th>2</th>\n",
       "      <td>2014-01-01 03:00:00+00:00</td>\n",
       "      <td>58.0</td>\n",
       "      <td>10089.0</td>\n",
       "      <td>0.0</td>\n",
       "      <td>91.0</td>\n",
       "    </tr>\n",
       "    <tr>\n",
       "      <th>3</th>\n",
       "      <td>2014-01-01 04:00:00+00:00</td>\n",
       "      <td>51.0</td>\n",
       "      <td>10091.0</td>\n",
       "      <td>0.0</td>\n",
       "      <td>93.0</td>\n",
       "    </tr>\n",
       "    <tr>\n",
       "      <th>4</th>\n",
       "      <td>2014-01-01 05:00:00+00:00</td>\n",
       "      <td>47.0</td>\n",
       "      <td>10090.0</td>\n",
       "      <td>0.0</td>\n",
       "      <td>91.0</td>\n",
       "    </tr>\n",
       "  </tbody>\n",
       "</table>\n",
       "</div>"
      ],
      "text/plain": [
       "                    datetime     T        P   RH     U\n",
       "0  2014-01-01 01:00:00+00:00  60.0  10083.0  0.5  92.0\n",
       "1  2014-01-01 02:00:00+00:00  62.0  10088.0  0.0  93.0\n",
       "2  2014-01-01 03:00:00+00:00  58.0  10089.0  0.0  91.0\n",
       "3  2014-01-01 04:00:00+00:00  51.0  10091.0  0.0  93.0\n",
       "4  2014-01-01 05:00:00+00:00  47.0  10090.0  0.0  91.0"
      ]
     },
     "execution_count": 20,
     "metadata": {},
     "output_type": "execute_result"
    }
   ],
   "source": [
    "data = pd.read_csv('/Users/sahilnakrani/Documents/weather forecast/src/Machine-Learning/Final-Data/Cleaned_Data.csv')\n",
    "\n",
    "data.head()"
   ]
  },
  {
   "cell_type": "markdown",
   "metadata": {},
   "source": [
    "### in this Dataset, Features were multiplied by 10. so, we have to make again perfect."
   ]
  },
  {
   "cell_type": "code",
   "execution_count": 21,
   "metadata": {},
   "outputs": [],
   "source": [
    "data['T'] = data['T']/10\n",
    "data['RH'] = data['RH']/10\n",
    "data['P'] = data['P']/10\n",
    "data['U'] = data['U']/10"
   ]
  },
  {
   "cell_type": "code",
   "execution_count": 22,
   "metadata": {},
   "outputs": [
    {
     "name": "stdout",
     "output_type": "stream",
     "text": [
      "         datetime    T       P    RH    U\n",
      "0      2014010101  6.0  1008.3  0.05  9.2\n",
      "1      2014010102  6.2  1008.8  0.00  9.3\n",
      "2      2014010103  5.8  1008.9  0.00  9.1\n",
      "3      2014010104  5.1  1009.1  0.00  9.3\n",
      "4      2014010105  4.7  1009.0  0.00  9.1\n",
      "...           ...  ...     ...   ...  ...\n",
      "87643  2023123120  8.6   997.4  0.20  7.6\n",
      "87644  2023123121  8.4   997.8  0.05  7.7\n",
      "87645  2023123122  8.0   997.9  0.05  7.9\n",
      "87646  2023123123  8.6   998.5  0.00  7.1\n",
      "87647  2024010100  8.7   998.6  0.05  7.1\n",
      "\n",
      "[87648 rows x 5 columns]\n"
     ]
    }
   ],
   "source": [
    "data.datetime = pd.to_datetime(data.datetime)\n",
    "\n",
    "# Create the dateindex feature\n",
    "data['datetime'] = data.datetime.dt.year.astype(str) + data.datetime.dt.month.astype(str).str.zfill(2) + data.datetime.dt.day.astype(str).str.zfill(2) + data.datetime.dt.hour.astype(str).str.zfill(2)\n",
    "data['datetime'] = pd.to_numeric(data['datetime'], errors='coerce')\n",
    "\n",
    "# Display the DataFrame with the new dateindex feature\n",
    "print(data)"
   ]
  },
  {
   "cell_type": "markdown",
   "metadata": {},
   "source": [
    "### Updating the Data as CSV for further Studies."
   ]
  },
  {
   "cell_type": "code",
   "execution_count": 23,
   "metadata": {},
   "outputs": [],
   "source": [
    "# Save DataFrame to CSV\n",
    "data.to_csv('/Users/sahilnakrani/Documents/weather forecast/src/Machine-Learning/Final-Data/FE_data.csv', index=False)"
   ]
  }
 ],
 "metadata": {
  "kernelspec": {
   "display_name": "Python 3",
   "language": "python",
   "name": "python3"
  },
  "language_info": {
   "codemirror_mode": {
    "name": "ipython",
    "version": 3
   },
   "file_extension": ".py",
   "mimetype": "text/x-python",
   "name": "python",
   "nbconvert_exporter": "python",
   "pygments_lexer": "ipython3",
   "version": "3.12.2"
  }
 },
 "nbformat": 4,
 "nbformat_minor": 2
}
