{
 "cells": [
  {
   "cell_type": "code",
   "execution_count": 1,
   "metadata": {},
   "outputs": [],
   "source": [
    "from functions import splitting, evaluate_model\n",
    "from sklearn.linear_model import LinearRegression\n",
    "import time\n",
    "import pickle"
   ]
  },
  {
   "cell_type": "code",
   "execution_count": 2,
   "metadata": {},
   "outputs": [
    {
     "name": "stdout",
     "output_type": "stream",
     "text": [
      "     datetime       P    RH    U\n",
      "0  2014010101  1008.3  0.05  9.2\n",
      "1  2014010102  1008.8  0.00  9.3\n",
      "2  2014010103  1008.9  0.00  9.1\n",
      "3  2014010104  1009.1  0.00  9.3\n",
      "4  2014010105  1009.0  0.00  9.1\n"
     ]
    },
    {
     "name": "stderr",
     "output_type": "stream",
     "text": [
      "/Users/sahilnakrani/Documents/weather forecast/src/Machine-Learning/Regression-Models/models/with_all_features/functions.py:34: SettingWithCopyWarning: \n",
      "A value is trying to be set on a copy of a slice from a DataFrame.\n",
      "Try using .loc[row_indexer,col_indexer] = value instead\n",
      "\n",
      "See the caveats in the documentation: https://pandas.pydata.org/pandas-docs/stable/user_guide/indexing.html#returning-a-view-versus-a-copy\n",
      "  X_train[['P', 'RH', 'U']] = scaler.fit_transform(X_train[['P', 'RH', 'U']])\n",
      "/Users/sahilnakrani/Documents/weather forecast/src/Machine-Learning/Regression-Models/models/with_all_features/functions.py:35: SettingWithCopyWarning: \n",
      "A value is trying to be set on a copy of a slice from a DataFrame.\n",
      "Try using .loc[row_indexer,col_indexer] = value instead\n",
      "\n",
      "See the caveats in the documentation: https://pandas.pydata.org/pandas-docs/stable/user_guide/indexing.html#returning-a-view-versus-a-copy\n",
      "  X_test[['P', 'RH', 'U']] = scaler.transform(X_test[['P', 'RH', 'U']])\n"
     ]
    }
   ],
   "source": [
    "X_train, X_test, y_train, y_test = splitting('all')"
   ]
  },
  {
   "cell_type": "code",
   "execution_count": 3,
   "metadata": {},
   "outputs": [],
   "source": [
    "start_time = time.time()\n",
    "# Initialize the Linear Regression model\n",
    "linear_model = LinearRegression()\n",
    "linear_model.fit(X_train, y_train)\n",
    "end_time = time.time()\n",
    "linear_training_time = end_time - start_time\n",
    "\n",
    "# Save the trained model to a .pickle file\n",
    "with open('/Users/sahilnakrani/Documents/weather forecast/src/Machine-Learning/Regression-Models/trained_models/LinearRegression/with_all_features/LinearRegressionModel.pkl', 'wb') as f:   \n",
    "    pickle.dump(linear_model, f)\n",
    "\n",
    "# Save training times to a text file\n",
    "with open(\"/Users/sahilnakrani/Documents/weather forecast/src/Machine-Learning/Regression-Models/trained_models/LinearRegression/with_all_features/model_training_time.txt\", \"w\") as f:\n",
    "    f.write(\"LinearRegression Training Time: {:.6f} seconds\\n\".format(linear_training_time))"
   ]
  },
  {
   "cell_type": "code",
   "execution_count": 4,
   "metadata": {},
   "outputs": [
    {
     "data": {
      "text/plain": [
       "array([[ 2.02201010e+09,  7.79853240e-01, -1.84603153e-01,\n",
       "         6.34718631e-01],\n",
       "       [ 2.02201010e+09,  7.79853240e-01, -1.84603153e-01,\n",
       "         6.91847919e-01],\n",
       "       [ 2.02201010e+09,  8.30740979e-01, -1.84603153e-01,\n",
       "         7.48977206e-01],\n",
       "       ...,\n",
       "       [ 2.02312312e+09, -1.82559900e+00, -8.01916797e-02,\n",
       "         6.34257536e-02],\n",
       "       [ 2.02312312e+09, -1.76453371e+00, -1.84603153e-01,\n",
       "        -3.93608548e-01],\n",
       "       [ 2.02401010e+09, -1.75435616e+00, -8.01916797e-02,\n",
       "        -3.93608548e-01]])"
      ]
     },
     "execution_count": 4,
     "metadata": {},
     "output_type": "execute_result"
    }
   ],
   "source": [
    "X_test"
   ]
  },
  {
   "cell_type": "code",
   "execution_count": 5,
   "metadata": {},
   "outputs": [
    {
     "name": "stdout",
     "output_type": "stream",
     "text": [
      "Model: LinearRegression\n",
      "Mean Squared Error: 33.253167138870914\n",
      "Root Mean Squared Error: 5.766555916565009\n",
      "R2 Score: 0.348808471789979\n"
     ]
    }
   ],
   "source": [
    "# Make predictions on the testing data\n",
    "y_pred = linear_model.predict(X_test)\n",
    "#evaluting the Model's performance.\n",
    "evaluate_model(linear_model, X_test, y_test, 'LinearRegression', 'all')"
   ]
  }
 ],
 "metadata": {
  "kernelspec": {
   "display_name": "Python 3",
   "language": "python",
   "name": "python3"
  },
  "language_info": {
   "codemirror_mode": {
    "name": "ipython",
    "version": 3
   },
   "file_extension": ".py",
   "mimetype": "text/x-python",
   "name": "python",
   "nbconvert_exporter": "python",
   "pygments_lexer": "ipython3",
   "version": "3.12.2"
  }
 },
 "nbformat": 4,
 "nbformat_minor": 2
}
