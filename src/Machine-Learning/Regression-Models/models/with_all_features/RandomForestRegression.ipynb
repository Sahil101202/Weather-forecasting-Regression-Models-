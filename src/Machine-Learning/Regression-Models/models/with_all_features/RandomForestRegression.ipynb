{
 "cells": [
  {
   "cell_type": "code",
   "execution_count": 5,
   "metadata": {},
   "outputs": [],
   "source": [
    "import numpy as np\n",
    "from functions import splitting, evaluate_model\n",
    "from sklearn.ensemble import RandomForestRegressor\n",
    "from sklearn.model_selection import GridSearchCV\n",
    "import time\n",
    "import pickle"
   ]
  },
  {
   "cell_type": "code",
   "execution_count": 9,
   "metadata": {},
   "outputs": [
    {
     "name": "stdout",
     "output_type": "stream",
     "text": [
      "     datetime       P    RH    U\n",
      "0  2014010101  1008.3  0.05  9.2\n",
      "1  2014010102  1008.8  0.00  9.3\n",
      "2  2014010103  1008.9  0.00  9.1\n",
      "3  2014010104  1009.1  0.00  9.3\n",
      "4  2014010105  1009.0  0.00  9.1\n"
     ]
    },
    {
     "name": "stderr",
     "output_type": "stream",
     "text": [
      "/Users/sahilnakrani/Documents/weather forecast/src/Machine-Learning/Regression-Models/models/with_all_features/functions.py:34: SettingWithCopyWarning: \n",
      "A value is trying to be set on a copy of a slice from a DataFrame.\n",
      "Try using .loc[row_indexer,col_indexer] = value instead\n",
      "\n",
      "See the caveats in the documentation: https://pandas.pydata.org/pandas-docs/stable/user_guide/indexing.html#returning-a-view-versus-a-copy\n",
      "  X_train[['P', 'RH', 'U']] = scaler.fit_transform(X_train[['P', 'RH', 'U']])\n",
      "/Users/sahilnakrani/Documents/weather forecast/src/Machine-Learning/Regression-Models/models/with_all_features/functions.py:35: SettingWithCopyWarning: \n",
      "A value is trying to be set on a copy of a slice from a DataFrame.\n",
      "Try using .loc[row_indexer,col_indexer] = value instead\n",
      "\n",
      "See the caveats in the documentation: https://pandas.pydata.org/pandas-docs/stable/user_guide/indexing.html#returning-a-view-versus-a-copy\n",
      "  X_test[['P', 'RH', 'U']] = scaler.transform(X_test[['P', 'RH', 'U']])\n"
     ]
    }
   ],
   "source": [
    "X_train, X_test, y_train, y_test = splitting('all')\n",
    "\n",
    "# Assuming y_train and y_test are 2D arrays\n",
    "y_train = np.ravel(y_train)\n",
    "y_test = np.ravel(y_test)"
   ]
  },
  {
   "cell_type": "code",
   "execution_count": 10,
   "metadata": {},
   "outputs": [],
   "source": [
    "# Define the decision tree regression model\n",
    "rf_model = RandomForestRegressor(max_features='sqrt', random_state=42)\n",
    "\n",
    "# Define the parameter grid for XGBoost\n",
    "param_grid = {\n",
    "    'n_estimators': [50, 100, 150],\n",
    "    'max_depth': [None, 5, 10, 20],\n",
    "    'min_samples_split': [2, 5, 10],\n",
    "    'min_samples_leaf': [1, 2, 4],\n",
    "    'bootstrap': [True, False]\n",
    "}"
   ]
  },
  {
   "cell_type": "code",
   "execution_count": 11,
   "metadata": {},
   "outputs": [
    {
     "name": "stderr",
     "output_type": "stream",
     "text": [
      "/Library/Frameworks/Python.framework/Versions/3.12/lib/python3.12/site-packages/joblib/externals/loky/process_executor.py:752: UserWarning: A worker stopped while some jobs were given to the executor. This can be caused by a too short worker timeout or by a memory leak.\n",
      "  warnings.warn(\n"
     ]
    }
   ],
   "source": [
    "total_time_start = time.time()\n",
    "# Perform grid search cross-validation\n",
    "grid_search_rf = GridSearchCV(rf_model, param_grid, cv=5, scoring='neg_mean_squared_error', n_jobs=-1)\n",
    "grid_search_rf.fit(X_train, y_train)\n",
    "\n",
    "# Get the best hyperparameters\n",
    "best_params_rf = grid_search_rf.best_params_\n",
    "\n",
    "start_time = time.time()\n",
    "# Initialize the decision tree regression model with the best hyperparameters\n",
    "rf_model_best = RandomForestRegressor(**best_params_rf, random_state=42)\n",
    "rf_model_best.fit(X_train, y_train)\n",
    "\n",
    "end_time = time.time()\n",
    "training_time = end_time - start_time\n",
    "total_time = end_time - total_time_start\n",
    "\n",
    "# Save the trained model to a .pickle file\n",
    "with open('/Users/sahilnakrani/Documents/weather forecast/src/Machine-Learning/Regression-Models/trained_models/RandomForestRegression/with_all_features/RandomForestRegressor.pkl', 'wb') as f:   \n",
    "    pickle.dump(rf_model_best, f)\n",
    "\n",
    "# Save training times to a text file\n",
    "with open(\"/Users/sahilnakrani/Documents/weather forecast/src/Machine-Learning/Regression-Models/trained_models/RandomForestRegression/with_all_features/model_training_time.txt\", \"w\") as f:\n",
    "    f.write(\"RandomForestRegressor Training Time : {:.6f} seconds\\n\".format(training_time))\n",
    "    f.write(\"Total Time with GridSearchCV : {:.6f} seconds\\n\".format(total_time))\n"
   ]
  },
  {
   "cell_type": "code",
   "execution_count": 12,
   "metadata": {},
   "outputs": [
    {
     "name": "stdout",
     "output_type": "stream",
     "text": [
      "Model: RandomForestRegression\n",
      "Mean Squared Error: 31.911270404080494\n",
      "Root Mean Squared Error: 5.6490061430379495\n",
      "R2 Score: 0.37508662393647796\n"
     ]
    }
   ],
   "source": [
    "# Make predictions\n",
    "y_pred_dt_best = rf_model_best.predict(X_test)\n",
    "\n",
    "#evaluting the Model's performance.\n",
    "evaluate_model(rf_model_best, X_test, y_test, 'RandomForestRegression', 'all')"
   ]
  }
 ],
 "metadata": {
  "kernelspec": {
   "display_name": "Python 3",
   "language": "python",
   "name": "python3"
  },
  "language_info": {
   "codemirror_mode": {
    "name": "ipython",
    "version": 3
   },
   "file_extension": ".py",
   "mimetype": "text/x-python",
   "name": "python",
   "nbconvert_exporter": "python",
   "pygments_lexer": "ipython3",
   "version": "3.12.2"
  }
 },
 "nbformat": 4,
 "nbformat_minor": 2
}
