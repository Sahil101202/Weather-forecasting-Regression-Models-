{
 "cells": [
  {
   "cell_type": "code",
   "execution_count": 1,
   "metadata": {},
   "outputs": [],
   "source": [
    "from functions import splitting, evaluate_model\n",
    "from sklearn.linear_model import LinearRegression\n",
    "from sklearn.preprocessing import PolynomialFeatures\n",
    "from sklearn.pipeline import make_pipeline\n",
    "from sklearn.model_selection import GridSearchCV\n",
    "import time\n",
    "import pickle"
   ]
  },
  {
   "cell_type": "code",
   "execution_count": 2,
   "metadata": {},
   "outputs": [
    {
     "name": "stdout",
     "output_type": "stream",
     "text": [
      "0    2014010101\n",
      "1    2014010102\n",
      "2    2014010103\n",
      "3    2014010104\n",
      "4    2014010105\n",
      "Name: datetime, dtype: int64\n"
     ]
    }
   ],
   "source": [
    "X_train, X_test, y_train, y_test = splitting('date')"
   ]
  },
  {
   "cell_type": "code",
   "execution_count": 3,
   "metadata": {},
   "outputs": [],
   "source": [
    "# Define the pipeline with polynomial features and linear regression\n",
    "poly_model = make_pipeline(PolynomialFeatures(), LinearRegression())\n",
    "\n",
    "# Define the hyperparameter grid\n",
    "param_grid_poly = {\n",
    "    'polynomialfeatures__degree': [1, 2, 3]  # Adjust degrees as needed\n",
    "}"
   ]
  },
  {
   "cell_type": "code",
   "execution_count": 4,
   "metadata": {},
   "outputs": [],
   "source": [
    "total_time_start = time.time()\n",
    "# Perform grid search cross-validation\n",
    "grid_search_poly = GridSearchCV(poly_model, param_grid_poly, cv=5, scoring='neg_mean_squared_error')\n",
    "grid_search_poly.fit(X_train, y_train)\n",
    "\n",
    "# Get the best polynomial degree\n",
    "best_degree_poly = grid_search_poly.best_params_['polynomialfeatures__degree']\n",
    "\n",
    "start_time = time.time()\n",
    "# Initialize the polynomial regression model with the best degree\n",
    "poly_model_best = make_pipeline(PolynomialFeatures(degree=best_degree_poly), LinearRegression())\n",
    "poly_model_best.fit(X_train, y_train)\n",
    "\n",
    "end_time = time.time()\n",
    "training_time = end_time - start_time\n",
    "total_time = end_time - total_time_start\n",
    "\n",
    "# Save the trained model to a .pickle file\n",
    "with open('/Users/sahilnakrani/Documents/weather forecast/src/Machine-Learning/Regression-Models/trained_models/PolynomialRegression/with_only_date/PolynomialRegressionModel.pkl', 'wb') as f:   \n",
    "    pickle.dump(poly_model_best, f)\n",
    "\n",
    "# Save training times to a text file\n",
    "with open(\"/Users/sahilnakrani/Documents/weather forecast/src/Machine-Learning/Regression-Models/trained_models/PolynomialRegression/with_only_date/model_training_time.txt\", \"w\") as f:\n",
    "    f.write(\"PolynomialRegression Training Time : {:.6f} seconds\\n\".format(training_time))\n",
    "    f.write(\"Total Time with GridSearchCV : {:.6f} seconds\\n\".format(total_time))"
   ]
  },
  {
   "cell_type": "code",
   "execution_count": 5,
   "metadata": {},
   "outputs": [
    {
     "name": "stdout",
     "output_type": "stream",
     "text": [
      "Model: PolynomialRegression\n",
      "Mean Squared Error: 51.65909102182787\n",
      "Root Mean Squared Error: 7.187425896788632\n",
      "R2 Score: -0.011631833080994358\n"
     ]
    }
   ],
   "source": [
    "# Make predictions on the testing data\n",
    "y_pred = poly_model_best.predict(X_test)\n",
    "#evaluting the Model's performance.\n",
    "evaluate_model(poly_model_best, X_test, y_test, 'PolynomialRegression', 'date')"
   ]
  }
 ],
 "metadata": {
  "kernelspec": {
   "display_name": "Python 3",
   "language": "python",
   "name": "python3"
  },
  "language_info": {
   "codemirror_mode": {
    "name": "ipython",
    "version": 3
   },
   "file_extension": ".py",
   "mimetype": "text/x-python",
   "name": "python",
   "nbconvert_exporter": "python",
   "pygments_lexer": "ipython3",
   "version": "3.12.2"
  }
 },
 "nbformat": 4,
 "nbformat_minor": 2
}
