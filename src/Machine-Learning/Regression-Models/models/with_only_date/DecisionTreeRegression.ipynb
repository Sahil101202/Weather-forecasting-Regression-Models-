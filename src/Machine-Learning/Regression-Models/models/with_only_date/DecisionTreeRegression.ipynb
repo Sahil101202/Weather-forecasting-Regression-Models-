{
 "cells": [
  {
   "cell_type": "code",
   "execution_count": 9,
   "metadata": {},
   "outputs": [],
   "source": [
    "import numpy as np\n",
    "from functions import splitting, evaluate_model\n",
    "from sklearn.tree import DecisionTreeRegressor\n",
    "from sklearn.model_selection import GridSearchCV\n",
    "import time\n",
    "import pickle"
   ]
  },
  {
   "cell_type": "code",
   "execution_count": 10,
   "metadata": {},
   "outputs": [
    {
     "name": "stdout",
     "output_type": "stream",
     "text": [
      "0    2014010101\n",
      "1    2014010102\n",
      "2    2014010103\n",
      "3    2014010104\n",
      "4    2014010105\n",
      "Name: datetime, dtype: int64\n"
     ]
    }
   ],
   "source": [
    "X_train, X_test, y_train, y_test = splitting('date')\n",
    "\n",
    "# Assuming y_train and y_test are 2D arrays\n",
    "y_train = np.ravel(y_train)\n",
    "y_test = np.ravel(y_test)"
   ]
  },
  {
   "cell_type": "code",
   "execution_count": 11,
   "metadata": {},
   "outputs": [],
   "source": [
    "# Define the decision tree regression model\n",
    "dt_model = DecisionTreeRegressor(random_state=42)\n",
    "\n",
    "param_grid = {\n",
    "    'splitter': ['best', 'random'],     # Strategy used to split at each node\n",
    "    'max_depth': [None, 10, 20, 30, 40, 50],  # Maximum depth of the tree\n",
    "    'min_samples_split': [2, 5, 10],     # Minimum number of samples required to split a node\n",
    "    'min_samples_leaf': [1, 2, 4],       # Minimum number of samples required at each leaf node\n",
    "}"
   ]
  },
  {
   "cell_type": "code",
   "execution_count": 12,
   "metadata": {},
   "outputs": [],
   "source": [
    "total_time_start = time.time()\n",
    "# Perform grid search cross-validation\n",
    "grid_search_dt = GridSearchCV(dt_model, param_grid, cv=5, scoring='neg_mean_squared_error', n_jobs=-1)\n",
    "grid_search_dt.fit(X_train, y_train)\n",
    "\n",
    "# Get the best hyperparameters\n",
    "best_params_dt = grid_search_dt.best_params_\n",
    "\n",
    "start_time = time.time()\n",
    "# Initialize the decision tree regression model with the best hyperparameters\n",
    "dt_model_best = DecisionTreeRegressor(**best_params_dt, random_state=42)\n",
    "dt_model_best.fit(X_train, y_train)\n",
    "\n",
    "end_time = time.time()\n",
    "training_time = end_time - start_time\n",
    "total_time = end_time - total_time_start\n",
    "\n",
    "# Save the trained model to a .pickle file\n",
    "with open('/Users/sahilnakrani/Documents/weather forecast/src/Machine-Learning/Regression-Models/trained_models/DecisionTreeRegression/with_only_date/DecisionTreeRegressor.pkl', 'wb') as f:   \n",
    "    pickle.dump(dt_model_best, f)\n",
    "\n",
    "# Save training times to a text file\n",
    "with open(\"/Users/sahilnakrani/Documents/weather forecast/src/Machine-Learning/Regression-Models/trained_models/DecisionTreeRegression/with_only_date/model_training_time.txt\", \"w\") as f:\n",
    "    f.write(\"DecisionTreeRegressor Training Time : {:.6f} seconds\\n\".format(training_time))\n",
    "    f.write(\"Total Time with GridSearchCV : {:.6f} seconds\\n\".format(total_time))\n"
   ]
  },
  {
   "cell_type": "code",
   "execution_count": 13,
   "metadata": {},
   "outputs": [
    {
     "name": "stdout",
     "output_type": "stream",
     "text": [
      "Model: DecisionTreeRegression\n",
      "Mean Squared Error: 51.917398526496136\n",
      "Root Mean Squared Error: 7.205372892952601\n",
      "R2 Score: -0.016690228211015734\n"
     ]
    }
   ],
   "source": [
    "# Make predictions\n",
    "y_pred_dt_best = dt_model_best.predict(X_test)\n",
    "\n",
    "#evaluting the Model's performance.\n",
    "evaluate_model(dt_model_best, X_test, y_test, 'DecisionTreeRegression', 'date')"
   ]
  }
 ],
 "metadata": {
  "kernelspec": {
   "display_name": "Python 3",
   "language": "python",
   "name": "python3"
  },
  "language_info": {
   "codemirror_mode": {
    "name": "ipython",
    "version": 3
   },
   "file_extension": ".py",
   "mimetype": "text/x-python",
   "name": "python",
   "nbconvert_exporter": "python",
   "pygments_lexer": "ipython3",
   "version": "3.12.2"
  }
 },
 "nbformat": 4,
 "nbformat_minor": 2
}
