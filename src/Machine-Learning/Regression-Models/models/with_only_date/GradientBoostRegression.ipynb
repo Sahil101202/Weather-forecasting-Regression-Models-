{
 "cells": [
  {
   "cell_type": "code",
   "execution_count": 5,
   "metadata": {},
   "outputs": [],
   "source": [
    "import numpy as np\n",
    "from functions import splitting, evaluate_model\n",
    "from sklearn.ensemble import GradientBoostingRegressor\n",
    "from sklearn.model_selection import GridSearchCV\n",
    "import time\n",
    "import pickle"
   ]
  },
  {
   "cell_type": "code",
   "execution_count": 9,
   "metadata": {},
   "outputs": [
    {
     "name": "stdout",
     "output_type": "stream",
     "text": [
      "0    2014010101\n",
      "1    2014010102\n",
      "2    2014010103\n",
      "3    2014010104\n",
      "4    2014010105\n",
      "Name: datetime, dtype: int64\n"
     ]
    }
   ],
   "source": [
    "X_train, X_test, y_train, y_test = splitting('date')\n",
    "\n",
    "# Assuming y_train and y_test are 2D arrays\n",
    "y_train = np.ravel(y_train)\n",
    "y_test = np.ravel(y_test)"
   ]
  },
  {
   "cell_type": "code",
   "execution_count": 10,
   "metadata": {},
   "outputs": [],
   "source": [
    "# Define the decision tree regression model\n",
    "xg_model = GradientBoostingRegressor(random_state=42)\n",
    "\n",
    "# Define the parameter grid for XGBoost\n",
    "param_grid = {\n",
    "    'n_estimators': [50, 100, 150],           # Number of boosting stages (trees) to be used in the ensemble\n",
    "    'learning_rate': [0.01, 0.05, 0.1],       # Learning rate shrinks the contribution of each tree\n",
    "    'max_depth': [3, 4, 5],                   # Maximum depth of the individual trees\n",
    "    'min_samples_split': [2, 5, 10],          # Minimum number of samples required to split an internal node\n",
    "    'min_samples_leaf': [1, 2, 4],            # Minimum number of samples required to be at a leaf node\n",
    "}"
   ]
  },
  {
   "cell_type": "code",
   "execution_count": 11,
   "metadata": {},
   "outputs": [],
   "source": [
    "total_time_start = time.time()\n",
    "# Perform grid search cross-validation\n",
    "grid_search_xg = GridSearchCV(xg_model, param_grid, cv=5, scoring='neg_mean_squared_error', n_jobs=-1)\n",
    "grid_search_xg.fit(X_train, y_train)\n",
    "\n",
    "# Get the best hyperparameters\n",
    "best_params_xg = grid_search_xg.best_params_\n",
    "\n",
    "start_time = time.time()\n",
    "# Initialize the decision tree regression model with the best hyperparameters\n",
    "xg_model_best = GradientBoostingRegressor(**best_params_xg, random_state=42)\n",
    "xg_model_best.fit(X_train, y_train)\n",
    "\n",
    "end_time = time.time()\n",
    "training_time = end_time - start_time\n",
    "total_time = end_time - total_time_start\n",
    "\n",
    "# Save the trained model to a .pickle file\n",
    "with open('/Users/sahilnakrani/Documents/weather forecast/src/Machine-Learning/Regression-Models/trained_models/GradientBoostRegression/with_only_date/GradientBoostRegressor.pkl', 'wb') as f:   \n",
    "    pickle.dump(xg_model_best, f)\n",
    "\n",
    "# Save training times to a text file\n",
    "with open(\"/Users/sahilnakrani/Documents/weather forecast/src/Machine-Learning/Regression-Models/trained_models/GradientBoostRegression/with_only_date/model_training_time.txt\", \"w\") as f:\n",
    "    f.write(\"GradientBoostRegressor Training Time : {:.6f} seconds\\n\".format(training_time))\n",
    "    f.write(\"Total Time with GridSearchCV : {:.6f} seconds\\n\".format(total_time))\n"
   ]
  },
  {
   "cell_type": "code",
   "execution_count": 12,
   "metadata": {},
   "outputs": [
    {
     "name": "stdout",
     "output_type": "stream",
     "text": [
      "Model: GradientBoostRegression\n",
      "Mean Squared Error: 51.08836768392284\n",
      "Root Mean Squared Error: 7.147612726213056\n",
      "R2 Score: -0.00045544795522811654\n"
     ]
    }
   ],
   "source": [
    "# Make predictions\n",
    "y_pred_dt_best = xg_model_best.predict(X_test)\n",
    "\n",
    "#evaluting the Model's performance.\n",
    "evaluate_model(xg_model_best, X_test, y_test, 'GradientBoostRegression', 'date')"
   ]
  }
 ],
 "metadata": {
  "kernelspec": {
   "display_name": "Python 3",
   "language": "python",
   "name": "python3"
  },
  "language_info": {
   "codemirror_mode": {
    "name": "ipython",
    "version": 3
   },
   "file_extension": ".py",
   "mimetype": "text/x-python",
   "name": "python",
   "nbconvert_exporter": "python",
   "pygments_lexer": "ipython3",
   "version": "3.12.2"
  }
 },
 "nbformat": 4,
 "nbformat_minor": 2
}
