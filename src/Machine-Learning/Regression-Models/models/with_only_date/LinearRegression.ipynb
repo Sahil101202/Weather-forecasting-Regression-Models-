{
 "cells": [
  {
   "cell_type": "code",
   "execution_count": 1,
   "metadata": {},
   "outputs": [],
   "source": [
    "from functions import splitting, evaluate_model\n",
    "from sklearn.linear_model import LinearRegression\n",
    "import time\n",
    "import pickle"
   ]
  },
  {
   "cell_type": "code",
   "execution_count": 2,
   "metadata": {},
   "outputs": [
    {
     "name": "stdout",
     "output_type": "stream",
     "text": [
      "0    2014010101\n",
      "1    2014010102\n",
      "2    2014010103\n",
      "3    2014010104\n",
      "4    2014010105\n",
      "Name: datetime, dtype: int64\n"
     ]
    }
   ],
   "source": [
    "X_train, X_test, y_train, y_test = splitting('date')"
   ]
  },
  {
   "cell_type": "code",
   "execution_count": 3,
   "metadata": {},
   "outputs": [
    {
     "name": "stdout",
     "output_type": "stream",
     "text": [
      "(70127, 1) (17521, 1) (70127, 1) (17521, 1)\n"
     ]
    }
   ],
   "source": [
    "print(X_train.shape, X_test.shape, y_train.shape, y_test.shape)"
   ]
  },
  {
   "cell_type": "code",
   "execution_count": 4,
   "metadata": {},
   "outputs": [],
   "source": [
    "start_time = time.time()\n",
    "# Initialize the Linear Regression model\n",
    "linear_model = LinearRegression()\n",
    "linear_model.fit(X_train, y_train)\n",
    "end_time = time.time()\n",
    "linear_training_time = end_time - start_time\n",
    "\n",
    "# Save the trained model to a .pickle file\n",
    "with open('/Users/sahilnakrani/Documents/weather forecast/src/Machine-Learning/Regression-Models/trained_models/LinearRegression/with_only_date/LinearRegressionModel.pkl', 'wb') as f:   \n",
    "    pickle.dump(linear_model, f)\n",
    "\n",
    "# Save training times to a text file\n",
    "with open(\"/Users/sahilnakrani/Documents/weather forecast/src/Machine-Learning/Regression-Models/trained_models/LinearRegression/with_only_date/model_training_time.txt\", \"w\") as f:\n",
    "    f.write(\"LinearRegression Training Time: {:.6f} seconds\\n\".format(linear_training_time))"
   ]
  },
  {
   "cell_type": "code",
   "execution_count": 5,
   "metadata": {},
   "outputs": [
    {
     "name": "stdout",
     "output_type": "stream",
     "text": [
      "Model: LinearRegression\n",
      "Mean Squared Error: 51.65909102182786\n",
      "Root Mean Squared Error: 7.187425896788631\n",
      "R2 Score: -0.011631833080994136\n"
     ]
    }
   ],
   "source": [
    "# Make predictions on the testing data\n",
    "y_pred = linear_model.predict(X_test)\n",
    "#evaluting the Model's performance.\n",
    "evaluate_model(linear_model, X_test, y_test, 'LinearRegression', 'date')"
   ]
  }
 ],
 "metadata": {
  "kernelspec": {
   "display_name": "Python 3",
   "language": "python",
   "name": "python3"
  },
  "language_info": {
   "codemirror_mode": {
    "name": "ipython",
    "version": 3
   },
   "file_extension": ".py",
   "mimetype": "text/x-python",
   "name": "python",
   "nbconvert_exporter": "python",
   "pygments_lexer": "ipython3",
   "version": "3.12.2"
  }
 },
 "nbformat": 4,
 "nbformat_minor": 2
}
